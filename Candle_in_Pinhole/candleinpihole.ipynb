{
 "cells": [
  {
   "cell_type": "code",
   "execution_count": 2,
   "metadata": {},
   "outputs": [
    {
     "data": {
      "image/png": "[encoded data removed]",
      "text/plain": [
       "<Figure size 1200x400 with 2 Axes>"
      ]
     },
     "metadata": {},
     "output_type": "display_data"
    }
   ],
   "source": [
    "import cv2\n",
    "import numpy as np\n",
    "import matplotlib.pyplot as plt\n",
    "\n",
    "\n",
    "def pinholeCamera(\n",
    "    imageSize=(400, 400),\n",
    "    pinholeSize=(3, 3),\n",
    "    objectPosition=(200, 200),\n",
    "    objectSize=(20, 100),\n",
    "):\n",
    "    image = np.zeros((imageSize[0], imageSize[1], 3), dtype=np.uint8)\n",
    "\n",
    "    pinholeStart = (\n",
    "        objectPosition[0] - pinholeSize[0] // 2,\n",
    "        objectPosition[1] - pinholeSize[1] // 2,\n",
    "    )\n",
    "    pinholeEnd = (pinholeStart[0] + pinholeSize[0], pinholeStart[1] + pinholeSize[1])\n",
    "    image[pinholeStart[1] : pinholeEnd[1], pinholeStart[0] : pinholeEnd[0]] = [\n",
    "        225,\n",
    "        225,\n",
    "        225,\n",
    "    ]\n",
    "\n",
    "    candleStart = (\n",
    "        objectPosition[0] - objectSize[0] // 2,\n",
    "        objectPosition[1] - objectSize[1] // 2,\n",
    "    )\n",
    "    candleEnd = (candleStart[0] + objectSize[0], candleStart[1] + objectSize[1])\n",
    "    image[candleStart[1] : candleEnd[1], candleStart[0] : candleEnd[0]] = [0, 165, 225]\n",
    "\n",
    "    return image\n",
    "\n",
    "\n",
    "def plotImages(images, titles):\n",
    "    fig, axe = plt.subplots(1, len(images), figsize=(12, 4))\n",
    "    for ax, image, title in zip(axe, images, titles):\n",
    "        ax.imshow(cv2.cvtColor(image, cv2.COLOR_BGR2RGB))\n",
    "        ax.set_title(title)\n",
    "        ax.axis(\"off\")\n",
    "    plt.show()\n",
    "\n",
    "\n",
    "pinholeSize = (10, 10)\n",
    "\n",
    "I1 = pinholeCamera((400, 400), pinholeSize, (100, 200), (40, 200))\n",
    "I2 = pinholeCamera((400, 400), pinholeSize, (200, 100), (100, 40))\n",
    "\n",
    "plotImages([I1, I2], [\"Pinhole Camera Image 1\", \"Pinhole Camera Image 2\"])"
   ]
  },
  {
   "cell_type": "code",
   "execution_count": null,
   "metadata": {},
   "outputs": [],
   "source": []
  }
 ],
 "metadata": {
  "kernelspec": {
   "display_name": "Python 3",
   "language": "python",
   "name": "python3"
  },
  "language_info": {
   "codemirror_mode": {
    "name": "ipython",
    "version": 3
   },
   "file_extension": ".py",
   "mimetype": "text/x-python",
   "name": "python",
   "nbconvert_exporter": "python",
   "pygments_lexer": "ipython3",
   "version": "3.12.2"
  }
 },
 "nbformat": 4,
 "nbformat_minor": 2
}
